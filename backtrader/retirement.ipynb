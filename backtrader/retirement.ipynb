{
 "cells": [
  {
   "cell_type": "code",
   "execution_count": 1,
   "metadata": {},
   "outputs": [
    {
     "data": {
      "application/vnd.jupyter.widget-view+json": {
       "model_id": "e6a63d5c07814407a0173abf5139a355",
       "version_major": 2,
       "version_minor": 0
      },
      "text/plain": [
       "interactive(children=(FloatText(value=240000.0, description='Principal ($)'), FloatText(value=-500.0, descript…"
      ]
     },
     "metadata": {},
     "output_type": "display_data"
    },
    {
     "data": {
      "text/plain": [
       "<function __main__.plot_investment(principal, monthly_contribution, years, interest_rate, compounding_frequency, annual_increase, annotation_year)>"
      ]
     },
     "execution_count": 1,
     "metadata": {},
     "output_type": "execute_result"
    }
   ],
   "source": [
    "import numpy as np\n",
    "import matplotlib.pyplot as plt\n",
    "from ipywidgets import interact\n",
    "import ipywidgets as widgets\n",
    "\n",
    "# Function to calculate compound interest with monthly contributions\n",
    "def calculate_investment_growth(principal, monthly_contribution, years, interest_rate, compounding_frequency=12, annual_increase=0):\n",
    "    total_months = years * 12\n",
    "    balances = []\n",
    "    contributions = []\n",
    "\n",
    "    for month in range(total_months + 1):\n",
    "        # Calculate future value with compound interest and contributions\n",
    "        future_value = principal * (1 + interest_rate / compounding_frequency) ** (compounding_frequency * (month / 12))\n",
    "        future_value += monthly_contribution * (((1 + interest_rate / compounding_frequency) ** (compounding_frequency * (month / 12)) - 1) / (interest_rate / compounding_frequency))\n",
    "\n",
    "        # Record the balance and contributions at each step\n",
    "        balances.append(future_value)\n",
    "        contributions.append(principal + monthly_contribution * month)\n",
    "\n",
    "        # Increase the monthly contribution at the end of each year\n",
    "        if month % 12 == 0 and month != 0:\n",
    "            monthly_contribution *= (1 + annual_increase)\n",
    "\n",
    "    return balances, contributions\n",
    "\n",
    "# Interactive plot function\n",
    "def plot_investment(principal, monthly_contribution, years, interest_rate, compounding_frequency, annual_increase, annotation_year):\n",
    "    # Calculate investment growth\n",
    "    balances, contributions = calculate_investment_growth(principal, monthly_contribution, years, interest_rate, compounding_frequency, annual_increase)\n",
    "\n",
    "    # Plotting\n",
    "    plt.figure(figsize=(12, 6))\n",
    "    years_range = np.arange(0, years + 1, step=1)\n",
    "\n",
    "    # Plot Future Value\n",
    "    plt.plot(np.arange(0, years * 12 + 1) / 12, balances, 'o-', color='brown', label=f\"Future Value ({interest_rate * 100:.2f}%)\", markersize=2)\n",
    "\n",
    "    # Plot Total Contributions\n",
    "    plt.plot(np.arange(0, years * 12 + 1) / 12, contributions, 'D-', color='teal', label=\"Total Contributions\", markersize=2)\n",
    "\n",
    "    # Add annotations for the specified year\n",
    "    if annotation_year < years:\n",
    "        balance_year = balances[annotation_year * 12]\n",
    "        contribution_year = contributions[annotation_year * 12]\n",
    "        plt.annotate(f\"Year {annotation_year}\\nFuture Value: ${balance_year:,.2f}\\nTotal Contributions: ${contribution_year:,.2f}\",\n",
    "                     xy=(annotation_year, balance_year), xytext=(annotation_year + 5, balance_year - 200000),\n",
    "                     bbox=dict(boxstyle=\"round,pad=0.3\", edgecolor=\"brown\", facecolor=\"white\"),\n",
    "                     arrowprops=dict(arrowstyle=\"->\", connectionstyle=\"arc3,rad=-0.2\", color=\"brown\"),\n",
    "                     fontsize=10, color=\"brown\")\n",
    "\n",
    "    # Customize plot appearance\n",
    "    plt.title(\"Total Savings\", fontsize=16, weight='bold')\n",
    "    plt.xlabel(\"Years\", fontsize=12)\n",
    "    plt.ylabel(\"US Dollars ($)\", fontsize=12)\n",
    "    plt.xticks(years_range)\n",
    "    plt.yticks(np.arange(0, max(balances) + 500000, step=392000), fontsize=10, weight='bold')\n",
    "    plt.grid(True, linestyle='--', alpha=0.7)\n",
    "    plt.legend(loc=\"upper left\", fontsize=12)\n",
    "    plt.show()\n",
    "\n",
    "# Define the interactive widgets\n",
    "interact(plot_investment,\n",
    "         principal=widgets.FloatText(value=240000, description='Principal ($)'),\n",
    "         monthly_contribution=widgets.FloatText(value=-500, description='Monthly Contribution ($)'),\n",
    "         years=widgets.IntSlider(value=50, min=1, max=100, step=1, description='Years'),\n",
    "         interest_rate=widgets.FloatSlider(value=0.10, min=0, max=0.2, step=0.01, description='Interest Rate'),\n",
    "         compounding_frequency=widgets.Dropdown(options=[1, 4, 12, 365], value=1, description='Compounds/Year'),\n",
    "         annual_increase=widgets.FloatSlider(value=0.10, min=0, max=1, step=0.01, description='Annual Increase (%)'),\n",
    "         annotation_year=widgets.IntSlider(value=40, min=1, max=50, step=1, description='Annotation Year'))\n"
   ]
  }
 ],
 "metadata": {
  "kernelspec": {
   "display_name": "venv",
   "language": "python",
   "name": "python3"
  },
  "language_info": {
   "codemirror_mode": {
    "name": "ipython",
    "version": 3
   },
   "file_extension": ".py",
   "mimetype": "text/x-python",
   "name": "python",
   "nbconvert_exporter": "python",
   "pygments_lexer": "ipython3",
   "version": "3.12.2"
  }
 },
 "nbformat": 4,
 "nbformat_minor": 2
}
